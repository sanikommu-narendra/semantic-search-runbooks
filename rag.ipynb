{
 "cells": [
  {
   "cell_type": "code",
   "execution_count": null,
   "id": "3aaa56f2",
   "metadata": {},
   "outputs": [],
   "source": [
    "pip install opensearch-py openai sentence-transformers --index-url https://pypi.org/simple"
   ]
  },
  {
   "cell_type": "code",
   "execution_count": null,
   "id": "42a9babe",
   "metadata": {},
   "outputs": [],
   "source": [
    "from opensearchpy import OpenSearch, helpers\n",
    "import os\n",
    "from sentence_transformers import SentenceTransformer\n",
    "import json\n",
    "\n",
    "model = SentenceTransformer(\"all-MiniLM-L6-v2\")\n",
    "\n",
    "\n",
    "host = 'localhost'\n",
    "port = 9200\n",
    "auth = ('admin', 'admin') \n",
    "\n",
    "client = OpenSearch(\n",
    "    hosts = [{'host': host, 'port': port}],\n",
    "    http_compress = True, # enables gzip compression for request bodies\n",
    "    http_auth = auth,\n",
    "    use_ssl = True,\n",
    "    verify_certs = False,\n",
    "    ssl_assert_hostname = False,\n",
    "    ssl_show_warn = False,\n",
    ")"
   ]
  },
  {
   "cell_type": "code",
   "execution_count": null,
   "id": "ed001c14",
   "metadata": {},
   "outputs": [],
   "source": [
    "query = {\n",
    "  \"query\": {\n",
    "    \"match\": {\n",
    "      \"title\": \"quick fox\"\n",
    "    }\n",
    "  }\n",
    "}\n",
    "\n",
    "response = client.search(\n",
    "    body = query,\n",
    "    index = 'my_index',\n",
    "    params = {'explain': 'true', 'pretty': 'true'}\n",
    ")\n",
    "\n",
    "print(response)\n"
   ]
  },
  {
   "cell_type": "code",
   "execution_count": null,
   "id": "09611197",
   "metadata": {},
   "outputs": [],
   "source": [
    "index_name = \"oci-opensearch-runbooks\"\n",
    "index_body = {\n",
    "  \"settings\": {\n",
    "    \"index\": {\n",
    "      \"number_of_shards\": 4,\n",
    "      \"knn\": True\n",
    "    }\n",
    "  },\n",
    "  \"mappings\": {\n",
    "    \"properties\": {\n",
    "      \"runbook_text\": {\n",
    "          \"type\": \"text\"\n",
    "      },\n",
    "      \"runbook_name\": {\n",
    "          \"type\": \"text\"\n",
    "      },\n",
    "      \"runbook_vector\": {\n",
    "        \"type\": \"knn_vector\",\n",
    "        \"dimension\": 384,\n",
    "        \"method\": {\n",
    "          \"space_type\": \"l2\",\n",
    "          \"name\": \"hnsw\"\n",
    "        }     \n",
    "      }\n",
    "    }\n",
    "  }\n",
    "}\n",
    "\n",
    "client.indices.create(\n",
    "    index = index_name,\n",
    "    body = index_body\n",
    ")"
   ]
  },
  {
   "cell_type": "code",
   "execution_count": null,
   "id": "e4b180a5",
   "metadata": {},
   "outputs": [],
   "source": [
    "base_dir = \"/Users/sannaren/mp_repos/runbooks/search-howtos/\"\n",
    "runbooks = [f for f in os.listdir(base_dir) if f.endswith(\".md\")]\n",
    "print(runbooks)\n",
    "\n",
    "documents = []\n",
    "for r in runbooks:\n",
    "    r_path = base_dir + \"/\" + r\n",
    "    f = open(r_path)\n",
    "    r_text = f.read()\n",
    "    f.close()\n",
    "    r_vector = model.encode(r_text)\n",
    "    document = {\"_index\": index_name, \"_source\": {\"runbook_name\": r_path, \"runbook_text\": r_text, \"runbook_vector\": r_vector}}\n",
    "    documents.append(document)\n",
    "\n",
    "response = helpers.bulk(client, documents)\n",
    "print(response)\n"
   ]
  },
  {
   "cell_type": "code",
   "execution_count": null,
   "id": "06273305",
   "metadata": {},
   "outputs": [],
   "source": [
    "query = ''''How to fetch customer details of a cluster'''\n",
    "k = 2\n",
    "vector = model.encode(query)\n",
    "search_body = {\n",
    "  \"size\": 2,\n",
    "  \"query\": {\n",
    "    \"knn\": {\n",
    "      \"runbook_vector\": {\n",
    "        \"vector\": vector,\n",
    "        \"k\": k\n",
    "      }\n",
    "    }\n",
    "  }\n",
    "}\n",
    "\n",
    "response = client.search(\n",
    "    body=search_body,\n",
    "    index=index_name\n",
    ")\n",
    "\n",
    "json_string = json.dumps(response, indent=2)\n",
    "\n",
    "print(json_string)"
   ]
  }
 ],
 "metadata": {
  "kernelspec": {
   "display_name": "rag-impl",
   "language": "python",
   "name": "python3"
  },
  "language_info": {
   "codemirror_mode": {
    "name": "ipython",
    "version": 3
   },
   "file_extension": ".py",
   "mimetype": "text/x-python",
   "name": "python",
   "nbconvert_exporter": "python",
   "pygments_lexer": "ipython3",
   "version": "3.10.16"
  }
 },
 "nbformat": 4,
 "nbformat_minor": 5
}
